{
 "cells": [
  {
   "cell_type": "code",
   "execution_count": 2,
   "metadata": {},
   "outputs": [],
   "source": [
    "import pandas as pd\n",
    "import numpy as np\n",
    "# filter warnings\n",
    "import warnings\n",
    "warnings.filterwarnings(\"ignore\")\n",
    "from  sklearn.tree import DecisionTreeClassifier\n",
    "from sklearn.ensemble import RandomForestClassifier\n",
    "from sklearn.model_selection import train_test_split\n",
    "from sklearn.linear_model import LogisticRegression\n",
    "from sklearn.metrics import classification_report\n",
    "from sklearn.model_selection import KFold\n",
    "from sklearn.model_selection import cross_val_score\n",
    "from sklearn.pipeline import Pipeline\n",
    "#Import Gaussian Naive Bayes model\n",
    "from sklearn.naive_bayes import GaussianNB"
   ]
  },
  {
   "cell_type": "code",
   "execution_count": 3,
   "metadata": {},
   "outputs": [],
   "source": [
    "# Executing datamerge function, to create final dataset\n",
    "%run ./datamerge.py"
   ]
  },
  {
   "cell_type": "code",
   "execution_count": 4,
   "metadata": {},
   "outputs": [],
   "source": [
    "final_telco_df =mergeData() "
   ]
  },
  {
   "cell_type": "code",
   "execution_count": 5,
   "metadata": {
    "collapsed": true
   },
   "outputs": [
    {
     "data": {
      "text/html": [
       "<div>\n",
       "<style scoped>\n",
       "    .dataframe tbody tr th:only-of-type {\n",
       "        vertical-align: middle;\n",
       "    }\n",
       "\n",
       "    .dataframe tbody tr th {\n",
       "        vertical-align: top;\n",
       "    }\n",
       "\n",
       "    .dataframe thead th {\n",
       "        text-align: right;\n",
       "    }\n",
       "</style>\n",
       "<table border=\"1\" class=\"dataframe\">\n",
       "  <thead>\n",
       "    <tr style=\"text-align: right;\">\n",
       "      <th></th>\n",
       "      <th>Customer ID</th>\n",
       "      <th>Count</th>\n",
       "      <th>Country</th>\n",
       "      <th>State</th>\n",
       "      <th>City</th>\n",
       "      <th>Zip Code</th>\n",
       "      <th>Lat Long</th>\n",
       "      <th>Latitude</th>\n",
       "      <th>Longitude</th>\n",
       "      <th>Gender</th>\n",
       "      <th>...</th>\n",
       "      <th>Satisfaction Score</th>\n",
       "      <th>Customer Status</th>\n",
       "      <th>Churn Label</th>\n",
       "      <th>Churn Value</th>\n",
       "      <th>Churn Score</th>\n",
       "      <th>CLTV</th>\n",
       "      <th>Churn Category</th>\n",
       "      <th>Churn Reason</th>\n",
       "      <th>ID</th>\n",
       "      <th>Population</th>\n",
       "    </tr>\n",
       "  </thead>\n",
       "  <tbody>\n",
       "    <tr>\n",
       "      <th>0</th>\n",
       "      <td>8779-QRDMV</td>\n",
       "      <td>1</td>\n",
       "      <td>United States</td>\n",
       "      <td>California</td>\n",
       "      <td>Los Angeles</td>\n",
       "      <td>90022</td>\n",
       "      <td>34.02381, -118.156582</td>\n",
       "      <td>34.02381</td>\n",
       "      <td>-118.156582</td>\n",
       "      <td>Male</td>\n",
       "      <td>...</td>\n",
       "      <td>3</td>\n",
       "      <td>Churned</td>\n",
       "      <td>Yes</td>\n",
       "      <td>1</td>\n",
       "      <td>91</td>\n",
       "      <td>5433</td>\n",
       "      <td>Competitor</td>\n",
       "      <td>Competitor offered more data</td>\n",
       "      <td>21</td>\n",
       "      <td>68701</td>\n",
       "    </tr>\n",
       "    <tr>\n",
       "      <th>1</th>\n",
       "      <td>4737-AQCPU</td>\n",
       "      <td>1</td>\n",
       "      <td>United States</td>\n",
       "      <td>California</td>\n",
       "      <td>Los Angeles</td>\n",
       "      <td>90022</td>\n",
       "      <td>34.02381, -118.156582</td>\n",
       "      <td>34.02381</td>\n",
       "      <td>-118.156582</td>\n",
       "      <td>Male</td>\n",
       "      <td>...</td>\n",
       "      <td>3</td>\n",
       "      <td>Stayed</td>\n",
       "      <td>No</td>\n",
       "      <td>0</td>\n",
       "      <td>42</td>\n",
       "      <td>4658</td>\n",
       "      <td>NaN</td>\n",
       "      <td>NaN</td>\n",
       "      <td>21</td>\n",
       "      <td>68701</td>\n",
       "    </tr>\n",
       "    <tr>\n",
       "      <th>2</th>\n",
       "      <td>5043-TRZWM</td>\n",
       "      <td>1</td>\n",
       "      <td>United States</td>\n",
       "      <td>California</td>\n",
       "      <td>Los Angeles</td>\n",
       "      <td>90022</td>\n",
       "      <td>34.02381, -118.156582</td>\n",
       "      <td>34.02381</td>\n",
       "      <td>-118.156582</td>\n",
       "      <td>Female</td>\n",
       "      <td>...</td>\n",
       "      <td>5</td>\n",
       "      <td>Joined</td>\n",
       "      <td>No</td>\n",
       "      <td>0</td>\n",
       "      <td>34</td>\n",
       "      <td>3503</td>\n",
       "      <td>NaN</td>\n",
       "      <td>NaN</td>\n",
       "      <td>21</td>\n",
       "      <td>68701</td>\n",
       "    </tr>\n",
       "    <tr>\n",
       "      <th>3</th>\n",
       "      <td>8165-CBKXO</td>\n",
       "      <td>1</td>\n",
       "      <td>United States</td>\n",
       "      <td>California</td>\n",
       "      <td>Los Angeles</td>\n",
       "      <td>90022</td>\n",
       "      <td>34.02381, -118.156582</td>\n",
       "      <td>34.02381</td>\n",
       "      <td>-118.156582</td>\n",
       "      <td>Male</td>\n",
       "      <td>...</td>\n",
       "      <td>3</td>\n",
       "      <td>Stayed</td>\n",
       "      <td>No</td>\n",
       "      <td>0</td>\n",
       "      <td>46</td>\n",
       "      <td>5748</td>\n",
       "      <td>NaN</td>\n",
       "      <td>NaN</td>\n",
       "      <td>21</td>\n",
       "      <td>68701</td>\n",
       "    </tr>\n",
       "    <tr>\n",
       "      <th>4</th>\n",
       "      <td>9979-RGMZT</td>\n",
       "      <td>1</td>\n",
       "      <td>United States</td>\n",
       "      <td>California</td>\n",
       "      <td>Los Angeles</td>\n",
       "      <td>90022</td>\n",
       "      <td>34.02381, -118.156582</td>\n",
       "      <td>34.02381</td>\n",
       "      <td>-118.156582</td>\n",
       "      <td>Female</td>\n",
       "      <td>...</td>\n",
       "      <td>3</td>\n",
       "      <td>Stayed</td>\n",
       "      <td>No</td>\n",
       "      <td>0</td>\n",
       "      <td>38</td>\n",
       "      <td>5545</td>\n",
       "      <td>NaN</td>\n",
       "      <td>NaN</td>\n",
       "      <td>21</td>\n",
       "      <td>68701</td>\n",
       "    </tr>\n",
       "  </tbody>\n",
       "</table>\n",
       "<p>5 rows × 54 columns</p>\n",
       "</div>"
      ],
      "text/plain": [
       "  Customer ID  Count        Country       State         City  Zip Code  \\\n",
       "0  8779-QRDMV      1  United States  California  Los Angeles     90022   \n",
       "1  4737-AQCPU      1  United States  California  Los Angeles     90022   \n",
       "2  5043-TRZWM      1  United States  California  Los Angeles     90022   \n",
       "3  8165-CBKXO      1  United States  California  Los Angeles     90022   \n",
       "4  9979-RGMZT      1  United States  California  Los Angeles     90022   \n",
       "\n",
       "                Lat Long  Latitude   Longitude  Gender  ...  \\\n",
       "0  34.02381, -118.156582  34.02381 -118.156582    Male  ...   \n",
       "1  34.02381, -118.156582  34.02381 -118.156582    Male  ...   \n",
       "2  34.02381, -118.156582  34.02381 -118.156582  Female  ...   \n",
       "3  34.02381, -118.156582  34.02381 -118.156582    Male  ...   \n",
       "4  34.02381, -118.156582  34.02381 -118.156582  Female  ...   \n",
       "\n",
       "   Satisfaction Score Customer Status Churn Label Churn Value Churn Score  \\\n",
       "0                   3         Churned         Yes           1          91   \n",
       "1                   3          Stayed          No           0          42   \n",
       "2                   5          Joined          No           0          34   \n",
       "3                   3          Stayed          No           0          46   \n",
       "4                   3          Stayed          No           0          38   \n",
       "\n",
       "   CLTV Churn Category                  Churn Reason  ID  Population  \n",
       "0  5433     Competitor  Competitor offered more data  21       68701  \n",
       "1  4658            NaN                           NaN  21       68701  \n",
       "2  3503            NaN                           NaN  21       68701  \n",
       "3  5748            NaN                           NaN  21       68701  \n",
       "4  5545            NaN                           NaN  21       68701  \n",
       "\n",
       "[5 rows x 54 columns]"
      ]
     },
     "execution_count": 5,
     "metadata": {},
     "output_type": "execute_result"
    }
   ],
   "source": [
    "final_telco_df.head()"
   ]
  },
  {
   "cell_type": "code",
   "execution_count": 6,
   "metadata": {},
   "outputs": [],
   "source": [
    "Xtrain, Xtest, Ytrain, Ytest = train_test_split(final_telco_df.loc[:, final_telco_df.columns != 'Churn Label']\n",
    "                                                , final_telco_df[['Churn Label']], test_size=0.1, random_state=42)"
   ]
  },
  {
   "cell_type": "code",
   "execution_count": 7,
   "metadata": {},
   "outputs": [
    {
     "data": {
      "text/plain": [
       "Index(['Churn Label'], dtype='object')"
      ]
     },
     "execution_count": 7,
     "metadata": {},
     "output_type": "execute_result"
    }
   ],
   "source": [
    "Ytrain.columns"
   ]
  },
  {
   "cell_type": "markdown",
   "metadata": {},
   "source": [
    "# Feature engineering and processing on Train data"
   ]
  },
  {
   "cell_type": "code",
   "execution_count": 8,
   "metadata": {},
   "outputs": [],
   "source": [
    "# Since Count, Country ,State and Quarter are constant, we are dropping them from further analysis. \n",
    "def dropfeatures(df):\n",
    "    '''\n",
    "    Dropping constant columns\n",
    "    '''\n",
    "    df = df.drop(['Count','Country','State','Quarter'],axis=1)\n",
    "    return df"
   ]
  },
  {
   "cell_type": "code",
   "execution_count": 9,
   "metadata": {},
   "outputs": [],
   "source": [
    "def regionType(df):\n",
    "    '''\n",
    "    Categorizing different cities into 4 major sub groups based on population\n",
    "    '''\n",
    "    firstq = df[['Population']].describe().loc['25%'].values[0]\n",
    "    meanpop = df[['Population']].describe().loc['mean'].values[0]\n",
    "    thirdq = df[['Population']].describe().loc['75%'].values[0]\n",
    "    df['RegionType']= df['Population'].apply(lambda x: 'Small Urban' if x < firstq\n",
    "                          else ('Medium Sized Urban' if (x >= firstq and x  < meanpop)else('Metropolitan' if \n",
    "                          (x >= meanpop and x  < thirdq) else 'Large Metropolitan')))                                                                                                                             \n",
    "    return df"
   ]
  },
  {
   "cell_type": "markdown",
   "metadata": {},
   "source": [
    "# Part Worths of Charges for each utility"
   ]
  },
  {
   "cell_type": "code",
   "execution_count": 10,
   "metadata": {},
   "outputs": [],
   "source": [
    "def partworthutility(df):\n",
    "    '''\n",
    "    Calculating percentage contributions by each subscription serivce type to the total Monthly charges\n",
    "    '''\n",
    "    # Total Charges here refer to Monthly Charge * Tenure in Months\n",
    "    df['Total_Charges_Allservices']  = (df['Monthly Charge']*df['Tenure in Months'])+df['Total Long Distance Charges']+df['Total Extra Data Charges']\n",
    "    df['Perc_Services'] = df['Total Charges']/df['Total_Charges_Allservices']\n",
    "    df['Perc_LongDistance'] =df['Total Long Distance Charges']/df['Total_Charges_Allservices']\n",
    "    df['Perc_AdditionalData'] =df['Total Extra Data Charges']/df['Total_Charges_Allservices']\n",
    "    return df"
   ]
  },
  {
   "cell_type": "markdown",
   "metadata": {},
   "source": [
    "# Engagement Features"
   ]
  },
  {
   "cell_type": "code",
   "execution_count": 11,
   "metadata": {},
   "outputs": [],
   "source": [
    "names = ['Phone Service','Online Security', 'Online Backup', 'Device Protection Plan','Streaming TV', 'Streaming Movies',\n",
    "       'Streaming Music', 'Unlimited Data','Internet Service','Multiple Lines','Premium Tech Support','Paperless Billing',\n",
    "         'Under 30','Senior Citizen', 'Married', 'Dependents','Referred a Friend']  \n",
    "# ConvertValues(names,Xtrain)"
   ]
  },
  {
   "cell_type": "code",
   "execution_count": 12,
   "metadata": {},
   "outputs": [],
   "source": [
    "def ConvertValues(names,df):\n",
    "    for i in names:\n",
    "        df[i] = np.where(df[i] =='Yes',1,0)\n",
    "    return df"
   ]
  },
  {
   "cell_type": "code",
   "execution_count": 20,
   "metadata": {},
   "outputs": [],
   "source": [
    "def engagement(df):\n",
    "    '''\n",
    "    Function to calculate the number of services under each category a customer has subscribed to\n",
    "    '''\n",
    "    # Total Charges here refer to Monthly Charge * Tenure in Months\n",
    "    df = ConvertValues(names,df)\n",
    "    df['No_of_Phone_Services'] = df['Phone Service']+df['Multiple Lines']\n",
    "    df['No_of_Security_Services'] = df['Online Security']+df['Online Backup']+df['Device Protection Plan']+df['Premium Tech Support']\n",
    "    df['No_of_Media_Services'] = df['Streaming TV']+df['Streaming Movies'] + df['Streaming Music']\n",
    "    df['No_of_Internet_Services'] = df['Unlimited Data']+df['Internet Service']\n",
    "    return df"
   ]
  },
  {
   "cell_type": "markdown",
   "metadata": {},
   "source": [
    "# Binning Age Variable"
   ]
  },
  {
   "cell_type": "markdown",
   "metadata": {},
   "source": [
    "Creating Additional Age bins\n",
    "\n",
    "Under 30 - Already exists\n",
    "\n",
    "30 to 45 - Young family\n",
    "\n",
    "45 to 60 - Grown family\n",
    "\n",
    "more than 60 - Senior Citizen - Already exists"
   ]
  },
  {
   "cell_type": "code",
   "execution_count": 14,
   "metadata": {},
   "outputs": [],
   "source": [
    "def agebuckets(df):\n",
    "    df['Young_Family'] = np.where((df['Age'] >= 30) & (df['Age'] <45),1,0)\n",
    "    df['Grown_Family'] = np.where((df['Age'] >= 45) & (df['Age'] <60),1,0)    \n",
    "    return df"
   ]
  },
  {
   "cell_type": "code",
   "execution_count": 15,
   "metadata": {},
   "outputs": [],
   "source": [
    "train_columns = ['Gender','Under 30','Senior Citizen', 'Married', 'Dependents','Referred a Friend','Tenure in Months', 'Offer',\n",
    "                'Avg Monthly GB Download','Internet Type','Contract','Paperless Billing','Payment Method','RegionType','Perc_Services', \n",
    "                 'Perc_LongDistance', 'Perc_AdditionalData','No_of_Phone_Services', 'No_of_Security_Services','No_of_Media_Services', \n",
    "                 'No_of_Internet_Services', 'Young_Family','Grown_Family','Satisfaction Score','Total Revenue']"
   ]
  },
  {
   "cell_type": "code",
   "execution_count": 17,
   "metadata": {},
   "outputs": [],
   "source": [
    "def dummies_cat(df):\n",
    "    df_cat = df[['Gender','Internet Type','Contract','Payment Method','RegionType','Offer']]\n",
    "    df_cat = pd.get_dummies(df_cat)\n",
    "    df1 = pd.concat([df.loc[:, ~df.columns.isin(['Gender','Internet Type','Contract','Payment Method','RegionType','Offer'])], df_cat],axis=1)\n",
    "    return df1"
   ]
  },
  {
   "cell_type": "code",
   "execution_count": 21,
   "metadata": {},
   "outputs": [],
   "source": [
    "def featureengg(df):\n",
    "    df = dropfeatures(df)\n",
    "    df = regionType(df)\n",
    "    df = partworthutility(df)\n",
    "    df = engagement(df)\n",
    "    df = agebuckets(df)\n",
    "    df = df[train_columns]\n",
    "    df = dummies_cat(df)\n",
    "    return df  "
   ]
  },
  {
   "cell_type": "code",
   "execution_count": 22,
   "metadata": {},
   "outputs": [],
   "source": [
    "Xtrain1 = Xtrain.copy()\n",
    "Xtrain = featureengg(Xtrain)"
   ]
  },
  {
   "cell_type": "code",
   "execution_count": 23,
   "metadata": {
    "collapsed": true
   },
   "outputs": [
    {
     "data": {
      "text/html": [
       "<div>\n",
       "<style scoped>\n",
       "    .dataframe tbody tr th:only-of-type {\n",
       "        vertical-align: middle;\n",
       "    }\n",
       "\n",
       "    .dataframe tbody tr th {\n",
       "        vertical-align: top;\n",
       "    }\n",
       "\n",
       "    .dataframe thead th {\n",
       "        text-align: right;\n",
       "    }\n",
       "</style>\n",
       "<table border=\"1\" class=\"dataframe\">\n",
       "  <thead>\n",
       "    <tr style=\"text-align: right;\">\n",
       "      <th></th>\n",
       "      <th>Under 30</th>\n",
       "      <th>Senior Citizen</th>\n",
       "      <th>Married</th>\n",
       "      <th>Dependents</th>\n",
       "      <th>Referred a Friend</th>\n",
       "      <th>Tenure in Months</th>\n",
       "      <th>Avg Monthly GB Download</th>\n",
       "      <th>Paperless Billing</th>\n",
       "      <th>Perc_Services</th>\n",
       "      <th>Perc_LongDistance</th>\n",
       "      <th>...</th>\n",
       "      <th>RegionType_Large Metropolitan</th>\n",
       "      <th>RegionType_Medium Sized Urban</th>\n",
       "      <th>RegionType_Metropolitan</th>\n",
       "      <th>RegionType_Small Urban</th>\n",
       "      <th>Offer_None</th>\n",
       "      <th>Offer_Offer A</th>\n",
       "      <th>Offer_Offer B</th>\n",
       "      <th>Offer_Offer C</th>\n",
       "      <th>Offer_Offer D</th>\n",
       "      <th>Offer_Offer E</th>\n",
       "    </tr>\n",
       "  </thead>\n",
       "  <tbody>\n",
       "    <tr>\n",
       "      <th>1554</th>\n",
       "      <td>1</td>\n",
       "      <td>0</td>\n",
       "      <td>1</td>\n",
       "      <td>0</td>\n",
       "      <td>1</td>\n",
       "      <td>39</td>\n",
       "      <td>19</td>\n",
       "      <td>1</td>\n",
       "      <td>0.661743</td>\n",
       "      <td>0.318056</td>\n",
       "      <td>...</td>\n",
       "      <td>1</td>\n",
       "      <td>0</td>\n",
       "      <td>0</td>\n",
       "      <td>0</td>\n",
       "      <td>0</td>\n",
       "      <td>0</td>\n",
       "      <td>0</td>\n",
       "      <td>1</td>\n",
       "      <td>0</td>\n",
       "      <td>0</td>\n",
       "    </tr>\n",
       "    <tr>\n",
       "      <th>4817</th>\n",
       "      <td>1</td>\n",
       "      <td>0</td>\n",
       "      <td>1</td>\n",
       "      <td>1</td>\n",
       "      <td>1</td>\n",
       "      <td>41</td>\n",
       "      <td>0</td>\n",
       "      <td>0</td>\n",
       "      <td>0.329803</td>\n",
       "      <td>0.669659</td>\n",
       "      <td>...</td>\n",
       "      <td>0</td>\n",
       "      <td>0</td>\n",
       "      <td>1</td>\n",
       "      <td>0</td>\n",
       "      <td>0</td>\n",
       "      <td>0</td>\n",
       "      <td>1</td>\n",
       "      <td>0</td>\n",
       "      <td>0</td>\n",
       "      <td>0</td>\n",
       "    </tr>\n",
       "    <tr>\n",
       "      <th>5957</th>\n",
       "      <td>1</td>\n",
       "      <td>0</td>\n",
       "      <td>0</td>\n",
       "      <td>0</td>\n",
       "      <td>0</td>\n",
       "      <td>3</td>\n",
       "      <td>59</td>\n",
       "      <td>0</td>\n",
       "      <td>0.900768</td>\n",
       "      <td>0.000000</td>\n",
       "      <td>...</td>\n",
       "      <td>0</td>\n",
       "      <td>0</td>\n",
       "      <td>1</td>\n",
       "      <td>0</td>\n",
       "      <td>1</td>\n",
       "      <td>0</td>\n",
       "      <td>0</td>\n",
       "      <td>0</td>\n",
       "      <td>0</td>\n",
       "      <td>0</td>\n",
       "    </tr>\n",
       "    <tr>\n",
       "      <th>5123</th>\n",
       "      <td>0</td>\n",
       "      <td>0</td>\n",
       "      <td>0</td>\n",
       "      <td>0</td>\n",
       "      <td>0</td>\n",
       "      <td>1</td>\n",
       "      <td>28</td>\n",
       "      <td>1</td>\n",
       "      <td>0.943112</td>\n",
       "      <td>0.056888</td>\n",
       "      <td>...</td>\n",
       "      <td>0</td>\n",
       "      <td>0</td>\n",
       "      <td>0</td>\n",
       "      <td>1</td>\n",
       "      <td>1</td>\n",
       "      <td>0</td>\n",
       "      <td>0</td>\n",
       "      <td>0</td>\n",
       "      <td>0</td>\n",
       "      <td>0</td>\n",
       "    </tr>\n",
       "    <tr>\n",
       "      <th>3217</th>\n",
       "      <td>0</td>\n",
       "      <td>0</td>\n",
       "      <td>0</td>\n",
       "      <td>0</td>\n",
       "      <td>0</td>\n",
       "      <td>1</td>\n",
       "      <td>22</td>\n",
       "      <td>0</td>\n",
       "      <td>1.000000</td>\n",
       "      <td>0.000000</td>\n",
       "      <td>...</td>\n",
       "      <td>0</td>\n",
       "      <td>0</td>\n",
       "      <td>0</td>\n",
       "      <td>1</td>\n",
       "      <td>0</td>\n",
       "      <td>0</td>\n",
       "      <td>0</td>\n",
       "      <td>0</td>\n",
       "      <td>0</td>\n",
       "      <td>1</td>\n",
       "    </tr>\n",
       "  </tbody>\n",
       "</table>\n",
       "<p>5 rows × 41 columns</p>\n",
       "</div>"
      ],
      "text/plain": [
       "      Under 30  Senior Citizen  Married  Dependents  Referred a Friend  \\\n",
       "1554         1               0        1           0                  1   \n",
       "4817         1               0        1           1                  1   \n",
       "5957         1               0        0           0                  0   \n",
       "5123         0               0        0           0                  0   \n",
       "3217         0               0        0           0                  0   \n",
       "\n",
       "      Tenure in Months  Avg Monthly GB Download  Paperless Billing  \\\n",
       "1554                39                       19                  1   \n",
       "4817                41                        0                  0   \n",
       "5957                 3                       59                  0   \n",
       "5123                 1                       28                  1   \n",
       "3217                 1                       22                  0   \n",
       "\n",
       "      Perc_Services  Perc_LongDistance  ...  RegionType_Large Metropolitan  \\\n",
       "1554       0.661743           0.318056  ...                              1   \n",
       "4817       0.329803           0.669659  ...                              0   \n",
       "5957       0.900768           0.000000  ...                              0   \n",
       "5123       0.943112           0.056888  ...                              0   \n",
       "3217       1.000000           0.000000  ...                              0   \n",
       "\n",
       "      RegionType_Medium Sized Urban  RegionType_Metropolitan  \\\n",
       "1554                              0                        0   \n",
       "4817                              0                        1   \n",
       "5957                              0                        1   \n",
       "5123                              0                        0   \n",
       "3217                              0                        0   \n",
       "\n",
       "      RegionType_Small Urban  Offer_None  Offer_Offer A  Offer_Offer B  \\\n",
       "1554                       0           0              0              0   \n",
       "4817                       0           0              0              1   \n",
       "5957                       0           1              0              0   \n",
       "5123                       1           1              0              0   \n",
       "3217                       1           0              0              0   \n",
       "\n",
       "      Offer_Offer C  Offer_Offer D  Offer_Offer E  \n",
       "1554              1              0              0  \n",
       "4817              0              0              0  \n",
       "5957              0              0              0  \n",
       "5123              0              0              0  \n",
       "3217              0              0              1  \n",
       "\n",
       "[5 rows x 41 columns]"
      ]
     },
     "execution_count": 23,
     "metadata": {},
     "output_type": "execute_result"
    }
   ],
   "source": [
    "Xtrain.head()"
   ]
  },
  {
   "cell_type": "code",
   "execution_count": 24,
   "metadata": {
    "collapsed": true
   },
   "outputs": [
    {
     "name": "stdout",
     "output_type": "stream",
     "text": [
      "<class 'pandas.core.frame.DataFrame'>\n",
      "Int64Index: 6338 entries, 1554 to 860\n",
      "Data columns (total 41 columns):\n",
      " #   Column                          Non-Null Count  Dtype  \n",
      "---  ------                          --------------  -----  \n",
      " 0   Under 30                        6338 non-null   int32  \n",
      " 1   Senior Citizen                  6338 non-null   int32  \n",
      " 2   Married                         6338 non-null   int32  \n",
      " 3   Dependents                      6338 non-null   int32  \n",
      " 4   Referred a Friend               6338 non-null   int32  \n",
      " 5   Tenure in Months                6338 non-null   int64  \n",
      " 6   Avg Monthly GB Download         6338 non-null   int64  \n",
      " 7   Paperless Billing               6338 non-null   int32  \n",
      " 8   Perc_Services                   6338 non-null   float64\n",
      " 9   Perc_LongDistance               6338 non-null   float64\n",
      " 10  Perc_AdditionalData             6338 non-null   float64\n",
      " 11  No_of_Phone_Services            6338 non-null   int32  \n",
      " 12  No_of_Security_Services         6338 non-null   int32  \n",
      " 13  No_of_Media_Services            6338 non-null   int32  \n",
      " 14  No_of_Internet_Services         6338 non-null   int32  \n",
      " 15  Young_Family                    6338 non-null   int32  \n",
      " 16  Grown_Family                    6338 non-null   int32  \n",
      " 17  Satisfaction Score              6338 non-null   int64  \n",
      " 18  Total Revenue                   6338 non-null   float64\n",
      " 19  Gender_Female                   6338 non-null   uint8  \n",
      " 20  Gender_Male                     6338 non-null   uint8  \n",
      " 21  Internet Type_Cable             6338 non-null   uint8  \n",
      " 22  Internet Type_DSL               6338 non-null   uint8  \n",
      " 23  Internet Type_Fiber Optic       6338 non-null   uint8  \n",
      " 24  Internet Type_None              6338 non-null   uint8  \n",
      " 25  Contract_Month-to-Month         6338 non-null   uint8  \n",
      " 26  Contract_One Year               6338 non-null   uint8  \n",
      " 27  Contract_Two Year               6338 non-null   uint8  \n",
      " 28  Payment Method_Bank Withdrawal  6338 non-null   uint8  \n",
      " 29  Payment Method_Credit Card      6338 non-null   uint8  \n",
      " 30  Payment Method_Mailed Check     6338 non-null   uint8  \n",
      " 31  RegionType_Large Metropolitan   6338 non-null   uint8  \n",
      " 32  RegionType_Medium Sized Urban   6338 non-null   uint8  \n",
      " 33  RegionType_Metropolitan         6338 non-null   uint8  \n",
      " 34  RegionType_Small Urban          6338 non-null   uint8  \n",
      " 35  Offer_None                      6338 non-null   uint8  \n",
      " 36  Offer_Offer A                   6338 non-null   uint8  \n",
      " 37  Offer_Offer B                   6338 non-null   uint8  \n",
      " 38  Offer_Offer C                   6338 non-null   uint8  \n",
      " 39  Offer_Offer D                   6338 non-null   uint8  \n",
      " 40  Offer_Offer E                   6338 non-null   uint8  \n",
      "dtypes: float64(4), int32(12), int64(3), uint8(22)\n",
      "memory usage: 829.4 KB\n"
     ]
    }
   ],
   "source": [
    "Xtrain.info()"
   ]
  },
  {
   "cell_type": "markdown",
   "metadata": {},
   "source": [
    "# Model Building"
   ]
  },
  {
   "cell_type": "code",
   "execution_count": 25,
   "metadata": {},
   "outputs": [
    {
     "name": "stdout",
     "output_type": "stream",
     "text": [
      "LogisticRegression(C=1.0, class_weight=None, dual=False, fit_intercept=True,\n",
      "                   intercept_scaling=1, l1_ratio=None, max_iter=100,\n",
      "                   multi_class='warn', n_jobs=None, penalty='l2',\n",
      "                   random_state=None, solver='warn', tol=0.0001, verbose=0,\n",
      "                   warm_start=False)\n",
      "0.9529820132533923\n"
     ]
    }
   ],
   "source": [
    "# Baseline Model - Logistic Regression\n",
    "model = LogisticRegression()\n",
    "print(model.fit(Xtrain, Ytrain))\n",
    "print(model.score(Xtrain, Ytrain))"
   ]
  },
  {
   "cell_type": "code",
   "execution_count": 27,
   "metadata": {},
   "outputs": [
    {
     "name": "stdout",
     "output_type": "stream",
     "text": [
      "0.9514041094183723\n",
      "0.006764941698987443\n"
     ]
    }
   ],
   "source": [
    "# performing KFold cross validation with 10 splits\n",
    "scores = cross_val_score(model, Xtrain, Ytrain, cv=10)\n",
    "print(scores.mean())\n",
    "print(scores.std())"
   ]
  },
  {
   "cell_type": "code",
   "execution_count": 28,
   "metadata": {},
   "outputs": [
    {
     "name": "stdout",
     "output_type": "stream",
     "text": [
      "RandomForestClassifier(bootstrap=True, class_weight=None, criterion='gini',\n",
      "                       max_depth=None, max_features='auto', max_leaf_nodes=None,\n",
      "                       min_impurity_decrease=0.0, min_impurity_split=None,\n",
      "                       min_samples_leaf=1, min_samples_split=2,\n",
      "                       min_weight_fraction_leaf=0.0, n_estimators=10,\n",
      "                       n_jobs=None, oob_score=False, random_state=None,\n",
      "                       verbose=0, warm_start=False)\n",
      "0.995582202587567\n"
     ]
    }
   ],
   "source": [
    "model1 = RandomForestClassifier()\n",
    "print(model1.fit(Xtrain, Ytrain))\n",
    "print(model1.score(Xtrain, Ytrain))"
   ]
  },
  {
   "cell_type": "code",
   "execution_count": 33,
   "metadata": {},
   "outputs": [
    {
     "name": "stdout",
     "output_type": "stream",
     "text": [
      "GaussianNB(priors=None, var_smoothing=1e-09)\n",
      "0.8505837803723572\n"
     ]
    }
   ],
   "source": [
    "# Naive-Bayes Classifier\n",
    "model2 = GaussianNB()\n",
    "print(model2.fit(Xtrain, Ytrain))\n",
    "print(model2.score(Xtrain, Ytrain))"
   ]
  },
  {
   "cell_type": "markdown",
   "metadata": {},
   "source": [
    "# Hyper-paramter tuning for Random Forest Model"
   ]
  },
  {
   "cell_type": "code",
   "execution_count": 30,
   "metadata": {},
   "outputs": [
    {
     "name": "stdout",
     "output_type": "stream",
     "text": [
      "Fitting 5 folds for each of 500 candidates, totalling 2500 fits\n"
     ]
    },
    {
     "name": "stderr",
     "output_type": "stream",
     "text": [
      "[Parallel(n_jobs=-1)]: Using backend LokyBackend with 8 concurrent workers.\n",
      "[Parallel(n_jobs=-1)]: Done  34 tasks      | elapsed:  1.7min\n",
      "[Parallel(n_jobs=-1)]: Done 184 tasks      | elapsed:  4.7min\n",
      "[Parallel(n_jobs=-1)]: Done 434 tasks      | elapsed:  8.7min\n",
      "[Parallel(n_jobs=-1)]: Done 784 tasks      | elapsed: 14.7min\n",
      "[Parallel(n_jobs=-1)]: Done 1234 tasks      | elapsed: 22.9min\n",
      "[Parallel(n_jobs=-1)]: Done 1784 tasks      | elapsed: 34.0min\n",
      "[Parallel(n_jobs=-1)]: Done 2434 tasks      | elapsed: 45.4min\n",
      "[Parallel(n_jobs=-1)]: Done 2500 out of 2500 | elapsed: 46.6min finished\n"
     ]
    }
   ],
   "source": [
    "from sklearn.model_selection import GridSearchCV\n",
    "n_estimators = [100, 300, 500, 800, 1200]\n",
    "max_depth = [5, 8, 15, 25, 30]\n",
    "min_samples_split = [2, 5, 10, 15, 100]\n",
    "min_samples_leaf = [1, 2, 5, 10] \n",
    "\n",
    "hyperRF = dict(n_estimators = n_estimators, max_depth = max_depth,  \n",
    "              min_samples_split = min_samples_split, \n",
    "             min_samples_leaf = min_samples_leaf)\n",
    "\n",
    "gridF = GridSearchCV(model1, hyperRF, cv = 5, verbose = 1, \n",
    "                      n_jobs = -1)\n",
    "bestF = gridF.fit(Xtrain, Ytrain)"
   ]
  },
  {
   "cell_type": "markdown",
   "metadata": {},
   "source": [
    "Best Model"
   ]
  },
  {
   "cell_type": "code",
   "execution_count": 31,
   "metadata": {},
   "outputs": [
    {
     "data": {
      "text/plain": [
       "RandomForestClassifier(bootstrap=True, class_weight=None, criterion='gini',\n",
       "                       max_depth=15, max_features='auto', max_leaf_nodes=None,\n",
       "                       min_impurity_decrease=0.0, min_impurity_split=None,\n",
       "                       min_samples_leaf=2, min_samples_split=2,\n",
       "                       min_weight_fraction_leaf=0.0, n_estimators=100,\n",
       "                       n_jobs=None, oob_score=False, random_state=None,\n",
       "                       verbose=0, warm_start=False)"
      ]
     },
     "execution_count": 31,
     "metadata": {},
     "output_type": "execute_result"
    }
   ],
   "source": [
    "bestF.best_estimator_"
   ]
  },
  {
   "cell_type": "code",
   "execution_count": 32,
   "metadata": {},
   "outputs": [
    {
     "data": {
      "text/plain": [
       "0.9607131587251498"
      ]
     },
     "execution_count": 32,
     "metadata": {},
     "output_type": "execute_result"
    }
   ],
   "source": [
    "bestF.best_score_"
   ]
  },
  {
   "cell_type": "markdown",
   "metadata": {},
   "source": [
    "# Running on model Hold out test data"
   ]
  },
  {
   "cell_type": "code",
   "execution_count": 36,
   "metadata": {},
   "outputs": [
    {
     "name": "stdout",
     "output_type": "stream",
     "text": [
      "              precision    recall  f1-score   support\n",
      "\n",
      "          No       0.94      0.98      0.96       534\n",
      "         Yes       0.93      0.81      0.87       171\n",
      "\n",
      "    accuracy                           0.94       705\n",
      "   macro avg       0.94      0.89      0.91       705\n",
      "weighted avg       0.94      0.94      0.94       705\n",
      "\n"
     ]
    }
   ],
   "source": [
    "Xtest=featureengg(Xtest)\n",
    "ypred = bestF.predict(Xtest)\n",
    "print(classification_report(Ytest,ypred))"
   ]
  },
  {
   "cell_type": "code",
   "execution_count": null,
   "metadata": {},
   "outputs": [],
   "source": []
  }
 ],
 "metadata": {
  "kernelspec": {
   "display_name": "Python 3",
   "language": "python",
   "name": "python3"
  },
  "language_info": {
   "codemirror_mode": {
    "name": "ipython",
    "version": 3
   },
   "file_extension": ".py",
   "mimetype": "text/x-python",
   "name": "python",
   "nbconvert_exporter": "python",
   "pygments_lexer": "ipython3",
   "version": "3.7.6"
  }
 },
 "nbformat": 4,
 "nbformat_minor": 4
}
