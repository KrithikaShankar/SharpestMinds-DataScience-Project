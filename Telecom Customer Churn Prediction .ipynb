{
 "cells": [
  {
   "cell_type": "code",
   "execution_count": 1,
   "metadata": {},
   "outputs": [],
   "source": [
    "# Data Source from - https://www.kaggle.com/ylchang/telco-customer-churn-1113"
   ]
  },
  {
   "cell_type": "code",
   "execution_count": 2,
   "metadata": {},
   "outputs": [],
   "source": [
    "import pandas as pd\n",
    "import numpy as np\n",
    "import seaborn as sns\n",
    "import matplotlib.pyplot as plt\n",
    "from  sklearn.tree import DecisionTreeClassifier\n",
    "from sklearn.ensemble import RandomForestClassifier"
   ]
  },
  {
   "cell_type": "code",
   "execution_count": 9,
   "metadata": {},
   "outputs": [],
   "source": [
    "# telco_df =  pd.read_excel('Telco_customer_churn.xlsx')\n",
    "telco_demo_df =  pd.read_excel('Telco_customer_churn_demographics.xlsx')\n",
    "telco_loc_df =  pd.read_excel('Telco_customer_churn_location.xlsx')\n",
    "telco_pop_df =  pd.read_excel('Telco_customer_churn_population.xlsx')\n",
    "telco_serv_df =  pd.read_excel('Telco_customer_churn_services.xlsx')\n",
    "telco_status_df = pd.read_excel('Telco_customer_churn_status.xlsx')"
   ]
  },
  {
   "cell_type": "code",
   "execution_count": 13,
   "metadata": {},
   "outputs": [
    {
     "name": "stdout",
     "output_type": "stream",
     "text": [
      "(7043, 9)\n",
      "  Customer ID  Count        Country       State         City  Zip Code  \\\n",
      "0  8779-QRDMV      1  United States  California  Los Angeles     90022   \n",
      "1  7495-OOKFY      1  United States  California  Los Angeles     90063   \n",
      "2  1658-BYGOY      1  United States  California  Los Angeles     90065   \n",
      "3  4598-XLKNJ      1  United States  California    Inglewood     90303   \n",
      "4  4846-WHAFZ      1  United States  California     Whittier     90602   \n",
      "\n",
      "                 Lat Long   Latitude   Longitude  \n",
      "0   34.02381, -118.156582  34.023810 -118.156582  \n",
      "1  34.044271, -118.185237  34.044271 -118.185237  \n",
      "2  34.108833, -118.229715  34.108833 -118.229715  \n",
      "3  33.936291, -118.332639  33.936291 -118.332639  \n",
      "4  33.972119, -118.020188  33.972119 -118.020188  \n"
     ]
    }
   ],
   "source": [
    "print(telco_loc_df.shape)\n",
    "print(telco_loc_df.head())"
   ]
  },
  {
   "cell_type": "code",
   "execution_count": 14,
   "metadata": {},
   "outputs": [
    {
     "name": "stdout",
     "output_type": "stream",
     "text": [
      "(1671, 3)\n",
      "   ID  Zip Code  Population\n",
      "0   1     90001       54492\n",
      "1   2     90002       44586\n",
      "2   3     90003       58198\n",
      "3   4     90004       67852\n",
      "4   5     90005       43019\n"
     ]
    }
   ],
   "source": [
    "print(telco_pop_df.shape)\n",
    "print(telco_pop_df.head())"
   ]
  },
  {
   "cell_type": "code",
   "execution_count": 15,
   "metadata": {
    "collapsed": true
   },
   "outputs": [
    {
     "name": "stdout",
     "output_type": "stream",
     "text": [
      "(7043, 30)\n",
      "  Customer ID  Count Quarter Referred a Friend  Number of Referrals  \\\n",
      "0  8779-QRDMV      1      Q3                No                    0   \n",
      "1  7495-OOKFY      1      Q3               Yes                    1   \n",
      "2  1658-BYGOY      1      Q3                No                    0   \n",
      "3  4598-XLKNJ      1      Q3               Yes                    1   \n",
      "4  4846-WHAFZ      1      Q3               Yes                    1   \n",
      "\n",
      "   Tenure in Months    Offer Phone Service  Avg Monthly Long Distance Charges  \\\n",
      "0                 1     None            No                               0.00   \n",
      "1                 8  Offer E           Yes                              48.85   \n",
      "2                18  Offer D           Yes                              11.33   \n",
      "3                25  Offer C           Yes                              19.76   \n",
      "4                37  Offer C           Yes                               6.33   \n",
      "\n",
      "  Multiple Lines  ... Unlimited Data        Contract  Paperless Billing  \\\n",
      "0             No  ...             No  Month-to-Month                Yes   \n",
      "1            Yes  ...            Yes  Month-to-Month                Yes   \n",
      "2            Yes  ...            Yes  Month-to-Month                Yes   \n",
      "3             No  ...            Yes  Month-to-Month                Yes   \n",
      "4            Yes  ...            Yes  Month-to-Month                Yes   \n",
      "\n",
      "    Payment Method Monthly Charge Total Charges Total Refunds  \\\n",
      "0  Bank Withdrawal          39.65         39.65          0.00   \n",
      "1      Credit Card          80.65        633.30          0.00   \n",
      "2  Bank Withdrawal          95.45       1752.55         45.61   \n",
      "3  Bank Withdrawal          98.50       2514.50         13.43   \n",
      "4  Bank Withdrawal          76.50       2868.15          0.00   \n",
      "\n",
      "  Total Extra Data Charges Total Long Distance Charges Total Revenue  \n",
      "0                       20                        0.00         59.65  \n",
      "1                        0                      390.80       1024.10  \n",
      "2                        0                      203.94       1910.88  \n",
      "3                        0                      494.00       2995.07  \n",
      "4                        0                      234.21       3102.36  \n",
      "\n",
      "[5 rows x 30 columns]\n"
     ]
    }
   ],
   "source": [
    "print(telco_serv_df.shape)\n",
    "print(telco_serv_df.head())"
   ]
  },
  {
   "cell_type": "code",
   "execution_count": 16,
   "metadata": {},
   "outputs": [
    {
     "name": "stdout",
     "output_type": "stream",
     "text": [
      "(7043, 11)\n",
      "  Customer ID  Count Quarter  Satisfaction Score Customer Status Churn Label  \\\n",
      "0  8779-QRDMV      1      Q3                   3         Churned         Yes   \n",
      "1  7495-OOKFY      1      Q3                   3         Churned         Yes   \n",
      "2  1658-BYGOY      1      Q3                   2         Churned         Yes   \n",
      "3  4598-XLKNJ      1      Q3                   2         Churned         Yes   \n",
      "4  4846-WHAFZ      1      Q3                   2         Churned         Yes   \n",
      "\n",
      "   Churn Value  Churn Score  CLTV   Churn Category  \\\n",
      "0            1           91  5433       Competitor   \n",
      "1            1           69  5302       Competitor   \n",
      "2            1           81  3179       Competitor   \n",
      "3            1           88  5337  Dissatisfaction   \n",
      "4            1           67  2793            Price   \n",
      "\n",
      "                   Churn Reason  \n",
      "0  Competitor offered more data  \n",
      "1  Competitor made better offer  \n",
      "2  Competitor made better offer  \n",
      "3     Limited range of services  \n",
      "4            Extra data charges  \n"
     ]
    }
   ],
   "source": [
    "print(telco_status_df.shape)\n",
    "print(telco_status_df.head())"
   ]
  },
  {
   "cell_type": "code",
   "execution_count": null,
   "metadata": {},
   "outputs": [],
   "source": [
    "# merging customer details, demographics, services and churn details "
   ]
  },
  {
   "cell_type": "code",
   "execution_count": 27,
   "metadata": {},
   "outputs": [],
   "source": [
    "telco_pop_df = telco_pop_df.rename(columns={\"Zip Code\": \"Zip Code\"})"
   ]
  },
  {
   "cell_type": "code",
   "execution_count": 54,
   "metadata": {},
   "outputs": [],
   "source": [
    "df1 = pd.DataFrame()"
   ]
  },
  {
   "cell_type": "code",
   "execution_count": 61,
   "metadata": {},
   "outputs": [],
   "source": [
    "telco_df= telco_df.rename(columns={\"CustomerID\": \"Customer ID\"})\n",
    "df1 = pd.merge(telco_loc_df,telco_demo_df.loc[:, telco_demo_df.columns != 'Count'], \n",
    "               how = 'inner', on = ('Customer ID'))\n",
    "df1 = pd.merge(df1,telco_serv_df.loc[:, telco_serv_df.columns != 'Count'], how = 'inner', on = ('Customer ID'))\n",
    "df1 = pd.merge(df1,telco_status_df.loc[:, telco_status_df.columns != 'Quarter'], how = 'inner', on = ('Customer ID'))\n",
    "final_telco_df = pd.merge(df1,telco_pop_df, how = 'inner', on = ('Zip Code'))"
   ]
  },
  {
   "cell_type": "code",
   "execution_count": 64,
   "metadata": {},
   "outputs": [],
   "source": [
    "final_telco_df.columns\n",
    "final_telco_df = final_telco_df.rename(columns={\"Count_x\": \"Count\"})\n",
    "final_telco_df = final_telco_df.drop(\"Count_y\",axis=1)"
   ]
  },
  {
   "cell_type": "code",
   "execution_count": 66,
   "metadata": {},
   "outputs": [
    {
     "data": {
      "text/plain": [
       "(7043, 54)"
      ]
     },
     "execution_count": 66,
     "metadata": {},
     "output_type": "execute_result"
    }
   ],
   "source": [
    "# Final Combined Dataset\n",
    "final_telco_df.shape"
   ]
  },
  {
   "cell_type": "code",
   "execution_count": 89,
   "metadata": {},
   "outputs": [
    {
     "data": {
      "text/plain": [
       "Index(['Customer ID', 'Count', 'Country', 'State', 'City', 'Zip Code',\n",
       "       'Lat Long', 'Latitude', 'Longitude', 'Gender', 'Age', 'Under 30',\n",
       "       'Senior Citizen', 'Married', 'Dependents', 'Number of Dependents',\n",
       "       'Quarter', 'Referred a Friend', 'Number of Referrals',\n",
       "       'Tenure in Months', 'Offer', 'Phone Service',\n",
       "       'Avg Monthly Long Distance Charges', 'Multiple Lines',\n",
       "       'Internet Service', 'Internet Type', 'Avg Monthly GB Download',\n",
       "       'Online Security', 'Online Backup', 'Device Protection Plan',\n",
       "       'Premium Tech Support', 'Streaming TV', 'Streaming Movies',\n",
       "       'Streaming Music', 'Unlimited Data', 'Contract', 'Paperless Billing',\n",
       "       'Payment Method', 'Monthly Charge', 'Total Charges', 'Total Refunds',\n",
       "       'Total Extra Data Charges', 'Total Long Distance Charges',\n",
       "       'Total Revenue', 'Satisfaction Score', 'Customer Status', 'Churn Label',\n",
       "       'Churn Value', 'Churn Score', 'CLTV', 'Churn Category', 'Churn Reason',\n",
       "       'ID', 'Population'],\n",
       "      dtype='object')"
      ]
     },
     "execution_count": 89,
     "metadata": {},
     "output_type": "execute_result"
    }
   ],
   "source": [
    "final_telco_df.columns"
   ]
  },
  {
   "cell_type": "code",
   "execution_count": 67,
   "metadata": {
    "collapsed": true
   },
   "outputs": [
    {
     "data": {
      "text/html": [
       "<div>\n",
       "<style scoped>\n",
       "    .dataframe tbody tr th:only-of-type {\n",
       "        vertical-align: middle;\n",
       "    }\n",
       "\n",
       "    .dataframe tbody tr th {\n",
       "        vertical-align: top;\n",
       "    }\n",
       "\n",
       "    .dataframe thead th {\n",
       "        text-align: right;\n",
       "    }\n",
       "</style>\n",
       "<table border=\"1\" class=\"dataframe\">\n",
       "  <thead>\n",
       "    <tr style=\"text-align: right;\">\n",
       "      <th></th>\n",
       "      <th>Count</th>\n",
       "      <th>Zip Code</th>\n",
       "      <th>Latitude</th>\n",
       "      <th>Longitude</th>\n",
       "      <th>Age</th>\n",
       "      <th>Number of Dependents</th>\n",
       "      <th>Number of Referrals</th>\n",
       "      <th>Tenure in Months</th>\n",
       "      <th>Avg Monthly Long Distance Charges</th>\n",
       "      <th>Avg Monthly GB Download</th>\n",
       "      <th>...</th>\n",
       "      <th>Total Refunds</th>\n",
       "      <th>Total Extra Data Charges</th>\n",
       "      <th>Total Long Distance Charges</th>\n",
       "      <th>Total Revenue</th>\n",
       "      <th>Satisfaction Score</th>\n",
       "      <th>Churn Value</th>\n",
       "      <th>Churn Score</th>\n",
       "      <th>CLTV</th>\n",
       "      <th>ID</th>\n",
       "      <th>Population</th>\n",
       "    </tr>\n",
       "  </thead>\n",
       "  <tbody>\n",
       "    <tr>\n",
       "      <th>count</th>\n",
       "      <td>7043.0</td>\n",
       "      <td>7043.000000</td>\n",
       "      <td>7043.000000</td>\n",
       "      <td>7043.000000</td>\n",
       "      <td>7043.000000</td>\n",
       "      <td>7043.000000</td>\n",
       "      <td>7043.000000</td>\n",
       "      <td>7043.000000</td>\n",
       "      <td>7043.000000</td>\n",
       "      <td>7043.000000</td>\n",
       "      <td>...</td>\n",
       "      <td>7043.000000</td>\n",
       "      <td>7043.000000</td>\n",
       "      <td>7043.000000</td>\n",
       "      <td>7043.000000</td>\n",
       "      <td>7043.000000</td>\n",
       "      <td>7043.000000</td>\n",
       "      <td>7043.000000</td>\n",
       "      <td>7043.000000</td>\n",
       "      <td>7043.000000</td>\n",
       "      <td>7043.000000</td>\n",
       "    </tr>\n",
       "    <tr>\n",
       "      <th>mean</th>\n",
       "      <td>1.0</td>\n",
       "      <td>93486.070567</td>\n",
       "      <td>36.197455</td>\n",
       "      <td>-119.756684</td>\n",
       "      <td>46.509726</td>\n",
       "      <td>0.468692</td>\n",
       "      <td>1.951867</td>\n",
       "      <td>32.386767</td>\n",
       "      <td>22.958954</td>\n",
       "      <td>20.515405</td>\n",
       "      <td>...</td>\n",
       "      <td>1.962182</td>\n",
       "      <td>6.860713</td>\n",
       "      <td>749.099262</td>\n",
       "      <td>3034.379056</td>\n",
       "      <td>3.244924</td>\n",
       "      <td>0.265370</td>\n",
       "      <td>58.505040</td>\n",
       "      <td>4400.295755</td>\n",
       "      <td>784.800653</td>\n",
       "      <td>22139.603294</td>\n",
       "    </tr>\n",
       "    <tr>\n",
       "      <th>std</th>\n",
       "      <td>0.0</td>\n",
       "      <td>1856.767505</td>\n",
       "      <td>2.468929</td>\n",
       "      <td>2.154425</td>\n",
       "      <td>16.750352</td>\n",
       "      <td>0.962802</td>\n",
       "      <td>3.001199</td>\n",
       "      <td>24.542061</td>\n",
       "      <td>15.448113</td>\n",
       "      <td>20.418940</td>\n",
       "      <td>...</td>\n",
       "      <td>7.902614</td>\n",
       "      <td>25.104978</td>\n",
       "      <td>846.660055</td>\n",
       "      <td>2865.204542</td>\n",
       "      <td>1.201657</td>\n",
       "      <td>0.441561</td>\n",
       "      <td>21.170031</td>\n",
       "      <td>1183.057152</td>\n",
       "      <td>489.044050</td>\n",
       "      <td>21152.392837</td>\n",
       "    </tr>\n",
       "    <tr>\n",
       "      <th>min</th>\n",
       "      <td>1.0</td>\n",
       "      <td>90001.000000</td>\n",
       "      <td>32.555828</td>\n",
       "      <td>-124.301372</td>\n",
       "      <td>19.000000</td>\n",
       "      <td>0.000000</td>\n",
       "      <td>0.000000</td>\n",
       "      <td>1.000000</td>\n",
       "      <td>0.000000</td>\n",
       "      <td>0.000000</td>\n",
       "      <td>...</td>\n",
       "      <td>0.000000</td>\n",
       "      <td>0.000000</td>\n",
       "      <td>0.000000</td>\n",
       "      <td>21.360000</td>\n",
       "      <td>1.000000</td>\n",
       "      <td>0.000000</td>\n",
       "      <td>5.000000</td>\n",
       "      <td>2003.000000</td>\n",
       "      <td>1.000000</td>\n",
       "      <td>11.000000</td>\n",
       "    </tr>\n",
       "    <tr>\n",
       "      <th>25%</th>\n",
       "      <td>1.0</td>\n",
       "      <td>92101.000000</td>\n",
       "      <td>33.990646</td>\n",
       "      <td>-121.788090</td>\n",
       "      <td>32.000000</td>\n",
       "      <td>0.000000</td>\n",
       "      <td>0.000000</td>\n",
       "      <td>9.000000</td>\n",
       "      <td>9.210000</td>\n",
       "      <td>3.000000</td>\n",
       "      <td>...</td>\n",
       "      <td>0.000000</td>\n",
       "      <td>0.000000</td>\n",
       "      <td>70.545000</td>\n",
       "      <td>605.610000</td>\n",
       "      <td>3.000000</td>\n",
       "      <td>0.000000</td>\n",
       "      <td>40.000000</td>\n",
       "      <td>3469.000000</td>\n",
       "      <td>353.000000</td>\n",
       "      <td>2344.000000</td>\n",
       "    </tr>\n",
       "    <tr>\n",
       "      <th>50%</th>\n",
       "      <td>1.0</td>\n",
       "      <td>93518.000000</td>\n",
       "      <td>36.205465</td>\n",
       "      <td>-119.595293</td>\n",
       "      <td>46.000000</td>\n",
       "      <td>0.000000</td>\n",
       "      <td>0.000000</td>\n",
       "      <td>29.000000</td>\n",
       "      <td>22.890000</td>\n",
       "      <td>17.000000</td>\n",
       "      <td>...</td>\n",
       "      <td>0.000000</td>\n",
       "      <td>0.000000</td>\n",
       "      <td>401.440000</td>\n",
       "      <td>2108.640000</td>\n",
       "      <td>3.000000</td>\n",
       "      <td>0.000000</td>\n",
       "      <td>61.000000</td>\n",
       "      <td>4527.000000</td>\n",
       "      <td>759.000000</td>\n",
       "      <td>17554.000000</td>\n",
       "    </tr>\n",
       "    <tr>\n",
       "      <th>75%</th>\n",
       "      <td>1.0</td>\n",
       "      <td>95329.000000</td>\n",
       "      <td>38.161321</td>\n",
       "      <td>-117.969795</td>\n",
       "      <td>60.000000</td>\n",
       "      <td>0.000000</td>\n",
       "      <td>3.000000</td>\n",
       "      <td>55.000000</td>\n",
       "      <td>36.395000</td>\n",
       "      <td>27.000000</td>\n",
       "      <td>...</td>\n",
       "      <td>0.000000</td>\n",
       "      <td>0.000000</td>\n",
       "      <td>1191.100000</td>\n",
       "      <td>4801.145000</td>\n",
       "      <td>4.000000</td>\n",
       "      <td>1.000000</td>\n",
       "      <td>75.500000</td>\n",
       "      <td>5380.500000</td>\n",
       "      <td>1208.000000</td>\n",
       "      <td>36125.000000</td>\n",
       "    </tr>\n",
       "    <tr>\n",
       "      <th>max</th>\n",
       "      <td>1.0</td>\n",
       "      <td>96150.000000</td>\n",
       "      <td>41.962127</td>\n",
       "      <td>-114.192901</td>\n",
       "      <td>80.000000</td>\n",
       "      <td>9.000000</td>\n",
       "      <td>11.000000</td>\n",
       "      <td>72.000000</td>\n",
       "      <td>49.990000</td>\n",
       "      <td>85.000000</td>\n",
       "      <td>...</td>\n",
       "      <td>49.790000</td>\n",
       "      <td>150.000000</td>\n",
       "      <td>3564.720000</td>\n",
       "      <td>11979.340000</td>\n",
       "      <td>5.000000</td>\n",
       "      <td>1.000000</td>\n",
       "      <td>96.000000</td>\n",
       "      <td>6500.000000</td>\n",
       "      <td>1670.000000</td>\n",
       "      <td>105285.000000</td>\n",
       "    </tr>\n",
       "  </tbody>\n",
       "</table>\n",
       "<p>8 rows × 22 columns</p>\n",
       "</div>"
      ],
      "text/plain": [
       "        Count      Zip Code     Latitude    Longitude          Age  \\\n",
       "count  7043.0   7043.000000  7043.000000  7043.000000  7043.000000   \n",
       "mean      1.0  93486.070567    36.197455  -119.756684    46.509726   \n",
       "std       0.0   1856.767505     2.468929     2.154425    16.750352   \n",
       "min       1.0  90001.000000    32.555828  -124.301372    19.000000   \n",
       "25%       1.0  92101.000000    33.990646  -121.788090    32.000000   \n",
       "50%       1.0  93518.000000    36.205465  -119.595293    46.000000   \n",
       "75%       1.0  95329.000000    38.161321  -117.969795    60.000000   \n",
       "max       1.0  96150.000000    41.962127  -114.192901    80.000000   \n",
       "\n",
       "       Number of Dependents  Number of Referrals  Tenure in Months  \\\n",
       "count           7043.000000          7043.000000       7043.000000   \n",
       "mean               0.468692             1.951867         32.386767   \n",
       "std                0.962802             3.001199         24.542061   \n",
       "min                0.000000             0.000000          1.000000   \n",
       "25%                0.000000             0.000000          9.000000   \n",
       "50%                0.000000             0.000000         29.000000   \n",
       "75%                0.000000             3.000000         55.000000   \n",
       "max                9.000000            11.000000         72.000000   \n",
       "\n",
       "       Avg Monthly Long Distance Charges  Avg Monthly GB Download  ...  \\\n",
       "count                        7043.000000              7043.000000  ...   \n",
       "mean                           22.958954                20.515405  ...   \n",
       "std                            15.448113                20.418940  ...   \n",
       "min                             0.000000                 0.000000  ...   \n",
       "25%                             9.210000                 3.000000  ...   \n",
       "50%                            22.890000                17.000000  ...   \n",
       "75%                            36.395000                27.000000  ...   \n",
       "max                            49.990000                85.000000  ...   \n",
       "\n",
       "       Total Refunds  Total Extra Data Charges  Total Long Distance Charges  \\\n",
       "count    7043.000000               7043.000000                  7043.000000   \n",
       "mean        1.962182                  6.860713                   749.099262   \n",
       "std         7.902614                 25.104978                   846.660055   \n",
       "min         0.000000                  0.000000                     0.000000   \n",
       "25%         0.000000                  0.000000                    70.545000   \n",
       "50%         0.000000                  0.000000                   401.440000   \n",
       "75%         0.000000                  0.000000                  1191.100000   \n",
       "max        49.790000                150.000000                  3564.720000   \n",
       "\n",
       "       Total Revenue  Satisfaction Score  Churn Value  Churn Score  \\\n",
       "count    7043.000000         7043.000000  7043.000000  7043.000000   \n",
       "mean     3034.379056            3.244924     0.265370    58.505040   \n",
       "std      2865.204542            1.201657     0.441561    21.170031   \n",
       "min        21.360000            1.000000     0.000000     5.000000   \n",
       "25%       605.610000            3.000000     0.000000    40.000000   \n",
       "50%      2108.640000            3.000000     0.000000    61.000000   \n",
       "75%      4801.145000            4.000000     1.000000    75.500000   \n",
       "max     11979.340000            5.000000     1.000000    96.000000   \n",
       "\n",
       "              CLTV           ID     Population  \n",
       "count  7043.000000  7043.000000    7043.000000  \n",
       "mean   4400.295755   784.800653   22139.603294  \n",
       "std    1183.057152   489.044050   21152.392837  \n",
       "min    2003.000000     1.000000      11.000000  \n",
       "25%    3469.000000   353.000000    2344.000000  \n",
       "50%    4527.000000   759.000000   17554.000000  \n",
       "75%    5380.500000  1208.000000   36125.000000  \n",
       "max    6500.000000  1670.000000  105285.000000  \n",
       "\n",
       "[8 rows x 22 columns]"
      ]
     },
     "execution_count": 67,
     "metadata": {},
     "output_type": "execute_result"
    }
   ],
   "source": [
    "final_telco_df.describe()"
   ]
  },
  {
   "cell_type": "code",
   "execution_count": 69,
   "metadata": {},
   "outputs": [
    {
     "data": {
      "text/plain": [
       "<matplotlib.axes._subplots.AxesSubplot at 0x1d61ddd3f60>"
      ]
     },
     "execution_count": 69,
     "metadata": {},
     "output_type": "execute_result"
    },
    {
     "data": {
      "image/png": "[encoded data removed]",
      "text/plain": [
       "<Figure size 432x288 with 2 Axes>"
      ]
     },
     "metadata": {
      "needs_background": "light"
     },
     "output_type": "display_data"
    }
   ],
   "source": [
    "sns.heatmap(final_telco_df.corr())"
   ]
  },
  {
   "cell_type": "code",
   "execution_count": 73,
   "metadata": {},
   "outputs": [
    {
     "data": {
      "text/plain": [
       "<matplotlib.axes._subplots.AxesSubplot at 0x1d623e96ac8>"
      ]
     },
     "execution_count": 73,
     "metadata": {},
     "output_type": "execute_result"
    },
    {
     "data": {
      "image/png": "[encoded data removed]",
      "text/plain": [
       "<Figure size 432x288 with 1 Axes>"
      ]
     },
     "metadata": {},
     "output_type": "display_data"
    }
   ],
   "source": [
    "sns.set(style=\"darkgrid\")\n",
    "sns.countplot('Churn Label',hue=\"Customer Status\", data= final_telco_df)"
   ]
  },
  {
   "cell_type": "code",
   "execution_count": 83,
   "metadata": {},
   "outputs": [
    {
     "data": {
      "text/plain": [
       "City\n",
       "Acampo          4\n",
       "Acton           4\n",
       "Adelanto        5\n",
       "Adin            4\n",
       "Agoura Hills    5\n",
       "               ..\n",
       "Yreka           4\n",
       "Yuba City       8\n",
       "Yucaipa         4\n",
       "Yucca Valley    5\n",
       "Zenia           4\n",
       "Name: Customer ID, Length: 1106, dtype: int64"
      ]
     },
     "execution_count": 83,
     "metadata": {},
     "output_type": "execute_result"
    }
   ],
   "source": [
    "final_telco_df.groupby('City')['Customer ID'].count()"
   ]
  },
  {
   "cell_type": "code",
   "execution_count": 85,
   "metadata": {},
   "outputs": [
    {
     "data": {
      "text/plain": [
       "Customer Status\n",
       "Churned    4149.414660\n",
       "Joined     4082.674009\n",
       "Stayed     4530.189195\n",
       "Name: CLTV, dtype: float64"
      ]
     },
     "execution_count": 85,
     "metadata": {},
     "output_type": "execute_result"
    }
   ],
   "source": [
    "final_telco_df.groupby('Customer Status')['CLTV'].mean()"
   ]
  },
  {
   "cell_type": "code",
   "execution_count": 88,
   "metadata": {},
   "outputs": [
    {
     "data": {
      "text/plain": [
       "array(['Competitor', 'Other', 'Dissatisfaction', 'Attitude', 'Price'],\n",
       "      dtype=object)"
      ]
     },
     "execution_count": 88,
     "metadata": {},
     "output_type": "execute_result"
    }
   ],
   "source": [
    "final_telco_df['Churn Category'].unique()"
   ]
  },
  {
   "cell_type": "code",
   "execution_count": 87,
   "metadata": {},
   "outputs": [],
   "source": [
    "final_telco_df['Churn Category'] = final_telco_df['Churn Category'].replace('nan',np.nan)\n",
    "final_telco_df['Churn Category'] = final_telco_df['Churn Category'].replace(np.nan,'Other')"
   ]
  },
  {
   "cell_type": "code",
   "execution_count": 90,
   "metadata": {},
   "outputs": [
    {
     "data": {
      "text/plain": [
       "<matplotlib.axes._subplots.AxesSubplot at 0x1d62aecef60>"
      ]
     },
     "execution_count": 90,
     "metadata": {},
     "output_type": "execute_result"
    },
    {
     "data": {
      "image/png": "[encoded data removed]",
      "text/plain": [
       "<Figure size 432x288 with 1 Axes>"
      ]
     },
     "metadata": {},
     "output_type": "display_data"
    }
   ],
   "source": [
    "sns.countplot('Churn Label',hue=\"Churn Category\", data= final_telco_df)"
   ]
  },
  {
   "cell_type": "code",
   "execution_count": 92,
   "metadata": {},
   "outputs": [
    {
     "data": {
      "text/plain": [
       "Churn Label\n",
       "No     37.591225\n",
       "Yes    17.979133\n",
       "Name: Tenure in Months, dtype: float64"
      ]
     },
     "execution_count": 92,
     "metadata": {},
     "output_type": "execute_result"
    }
   ],
   "source": [
    "final_telco_df.groupby('Churn Label')['Tenure in Months'].mean()"
   ]
  },
  {
   "cell_type": "code",
   "execution_count": 93,
   "metadata": {},
   "outputs": [
    {
     "data": {
      "text/plain": [
       "Churn Label\n",
       "No     2.122279\n",
       "Yes    1.518983\n",
       "Name: Total Refunds, dtype: float64"
      ]
     },
     "execution_count": 93,
     "metadata": {},
     "output_type": "execute_result"
    }
   ],
   "source": [
    "final_telco_df.groupby('Churn Label')['Total Refunds'].mean()"
   ]
  },
  {
   "cell_type": "code",
   "execution_count": 96,
   "metadata": {},
   "outputs": [
    {
     "data": {
      "text/plain": [
       "Churn Label\n",
       "No     5174\n",
       "Yes    1869\n",
       "Name: Offer, dtype: int64"
      ]
     },
     "execution_count": 96,
     "metadata": {},
     "output_type": "execute_result"
    }
   ],
   "source": [
    "final_telco_df.groupby('Churn Label')['Offer'].count()"
   ]
  },
  {
   "cell_type": "code",
   "execution_count": 98,
   "metadata": {},
   "outputs": [
    {
     "data": {
      "text/html": [
       "<div>\n",
       "<style scoped>\n",
       "    .dataframe tbody tr th:only-of-type {\n",
       "        vertical-align: middle;\n",
       "    }\n",
       "\n",
       "    .dataframe tbody tr th {\n",
       "        vertical-align: top;\n",
       "    }\n",
       "\n",
       "    .dataframe thead th {\n",
       "        text-align: right;\n",
       "    }\n",
       "</style>\n",
       "<table border=\"1\" class=\"dataframe\">\n",
       "  <thead>\n",
       "    <tr style=\"text-align: right;\">\n",
       "      <th>Offer</th>\n",
       "      <th>None</th>\n",
       "      <th>Offer A</th>\n",
       "      <th>Offer B</th>\n",
       "      <th>Offer C</th>\n",
       "      <th>Offer D</th>\n",
       "      <th>Offer E</th>\n",
       "    </tr>\n",
       "    <tr>\n",
       "      <th>Churn Label</th>\n",
       "      <th></th>\n",
       "      <th></th>\n",
       "      <th></th>\n",
       "      <th></th>\n",
       "      <th></th>\n",
       "      <th></th>\n",
       "    </tr>\n",
       "  </thead>\n",
       "  <tbody>\n",
       "    <tr>\n",
       "      <th>No</th>\n",
       "      <td>2826</td>\n",
       "      <td>485</td>\n",
       "      <td>723</td>\n",
       "      <td>320</td>\n",
       "      <td>441</td>\n",
       "      <td>379</td>\n",
       "    </tr>\n",
       "    <tr>\n",
       "      <th>Yes</th>\n",
       "      <td>1051</td>\n",
       "      <td>35</td>\n",
       "      <td>101</td>\n",
       "      <td>95</td>\n",
       "      <td>161</td>\n",
       "      <td>426</td>\n",
       "    </tr>\n",
       "  </tbody>\n",
       "</table>\n",
       "</div>"
      ],
      "text/plain": [
       "Offer        None  Offer A  Offer B  Offer C  Offer D  Offer E\n",
       "Churn Label                                                   \n",
       "No           2826      485      723      320      441      379\n",
       "Yes          1051       35      101       95      161      426"
      ]
     },
     "execution_count": 98,
     "metadata": {},
     "output_type": "execute_result"
    }
   ],
   "source": [
    "pd.crosstab(final_telco_df['Churn Label'], final_telco_df['Offer'])"
   ]
  },
  {
   "cell_type": "code",
   "execution_count": null,
   "metadata": {},
   "outputs": [],
   "source": []
  },
  {
   "cell_type": "code",
   "execution_count": null,
   "metadata": {},
   "outputs": [],
   "source": []
  },
  {
   "cell_type": "code",
   "execution_count": null,
   "metadata": {},
   "outputs": [],
   "source": []
  }
 ],
 "metadata": {
  "kernelspec": {
   "display_name": "Python 3",
   "language": "python",
   "name": "python3"
  },
  "language_info": {
   "codemirror_mode": {
    "name": "ipython",
    "version": 3
   },
   "file_extension": ".py",
   "mimetype": "text/x-python",
   "name": "python",
   "nbconvert_exporter": "python",
   "pygments_lexer": "ipython3",
   "version": "3.7.3"
  }
 },
 "nbformat": 4,
 "nbformat_minor": 2
}
